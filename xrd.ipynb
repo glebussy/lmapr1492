{
 "cells": [
  {
   "cell_type": "markdown",
   "id": "innocent-australia",
   "metadata": {},
   "source": [
    "# Tâche 7\n",
    "## Pics du diffractogramme du NiO2\n",
    "\n",
    "La tâche de cette semaine consiste à trouver les 3 premiers pics du diffractogramme du NiO2 pour un rayonnement X incident Cu Kα de longueur d’onde λ=1.54060 Å.\n",
    "\n",
    "Voici mon analyse faite grâce au module de diffraction de Pymatgen."
   ]
  },
  {
   "cell_type": "code",
   "execution_count": 14,
   "id": "wound-eleven",
   "metadata": {},
   "outputs": [
    {
     "name": "stdout",
     "output_type": "stream",
     "text": [
      "Le premier pic du diffractogramme correspondant à un rayonnement X incident Cu Kα se situe à un angle 2θ = 19.218531793774144 ° et a une intensité relative égale à 100.0 .\n",
      "L'indice de Miller correspondant est :  {'hkl': (0, 0, 0, 1), 'multiplicity': 2}\n",
      "\n",
      "\n",
      "Le deuxième pic du diffractogramme correspondant à un rayonnement X incident Cu Kα se situe à un angle 2θ = 37.09133511219488 ° et a une intensité relative égale à 23.19964287489083 .\n",
      "L'indice de Miller correspondant est :  {'hkl': (1, 0, -1, 0), 'multiplicity': 6}\n",
      "\n",
      "\n",
      "Le troisième pic du diffractogramme correspondant à un rayonnement X incident Cu Kα se situe à un angle 2θ = 39.006022497648125 ° et a une intensité relative égale à 3.987759954332589 .\n",
      "L'indice de Miller correspondant est :  {'hkl': (0, 0, 0, 2), 'multiplicity': 2}\n"
     ]
    }
   ],
   "source": [
    "import pymatgen.symmetry.analyzer as analyzer\n",
    "from pymatgen.ext.matproj import MPRester \n",
    "from pymatgen.analysis.diffraction.xrd import XRDCalculator\n",
    "import matplotlib.pyplot as plt\n",
    "\n",
    "\n",
    "with MPRester(\"50GdfyPDwCnkOUl2\") as m:\n",
    "    material_id = \"mp-543096\"\n",
    "    structure = m.get_structure_by_material_id(material_id)\n",
    "    new_structure = analyzer.SpacegroupAnalyzer(structure).get_primitive_standard_structure()\n",
    "    \n",
    "    xrd = XRDCalculator('CuKa')\n",
    "    pattern = xrd.get_pattern(structure)\n",
    "    #print(pattern)\n",
    "    #print(pattern.hkls)\n",
    "    \n",
    "    print(\"Le premier pic du diffractogramme correspondant à un rayonnement X incident Cu Kα se situe à un angle 2θ =\",pattern.x[0],\"° et a une intensité relative égale à\", pattern.intensity[0],\".\")\n",
    "    print(\"L'indice de Miller correspondant est : \",pattern.hkls[0][0])\n",
    "    \n",
    "    print(\"\\n\")\n",
    "    \n",
    "    print(\"Le deuxième pic du diffractogramme correspondant à un rayonnement X incident Cu Kα se situe à un angle 2θ =\",pattern.x[1],\"° et a une intensité relative égale à\", pattern.intensity[1],\".\")\n",
    "    print(\"L'indice de Miller correspondant est : \",pattern.hkls[1][0])\n",
    "    \n",
    "    print(\"\\n\")\n",
    "    \n",
    "    print(\"Le troisième pic du diffractogramme correspondant à un rayonnement X incident Cu Kα se situe à un angle 2θ =\",pattern.x[2],\"° et a une intensité relative égale à\", pattern.intensity[2],\".\")\n",
    "    print(\"L'indice de Miller correspondant est : \",pattern.hkls[2][0])\n",
    "    \n",
    "    "
   ]
  },
  {
   "cell_type": "markdown",
   "id": "other-satin",
   "metadata": {},
   "source": [
    "On remarque que l'analyse faite par Pymatgen nous donne 4 indices de Miller 'hkl'. Il s'agit en réalité d'une particuralité pour les réseaux trigonaux pour lesquels on définit parfois un quatrième indice pour désigner les plans (hkil) : il s'agit de la notation de Bravais-Miller.\n",
    "\n",
    "Le nouvel indice i est en fait redondant et vaut : \n",
    "\\begin{equation}\n",
    "i = -h-k\n",
    "\\end{equation}\n",
    "\"Cette notation permet d'appliquer des permutations circulaires d'indices pour définir des familles de plans.\" (Indices de Miller et indices de direction. 2021. Dans Wikipédia. https://fr.wikipedia.org/wiki/Indices_de_Miller_et_indices_de_direction).\n",
    "\n",
    "Une dernière remarque concernant la multiplicité : celle-ci nous donne le nombre de plans équivalents d'une famille d'une famille (même d_hkl et même facteur de structure)\n",
    "\n",
    "### Voici le diffractogramme complet pour le NiO2 : "
   ]
  },
  {
   "cell_type": "code",
   "execution_count": 15,
   "id": "broke-championship",
   "metadata": {},
   "outputs": [
    {
     "data": {
      "text/plain": [
       "Text(0.5, 1.0, 'Calculated X-ray diffraction patterns (relative intensity)')"
      ]
     },
     "execution_count": 15,
     "metadata": {},
     "output_type": "execute_result"
    },
    {
     "data": {
      "image/png": "[encoded data removed]",
      "text/plain": [
       "<Figure size 432x288 with 1 Axes>"
      ]
     },
     "metadata": {
      "needs_background": "light"
     },
     "output_type": "display_data"
    }
   ],
   "source": [
    "plt.figure()\n",
    "plt.scatter(pattern.x,pattern.intensity,facecolors='none', edgecolors='r')\n",
    "plt.bar(pattern.x,pattern.intensity, align='center', alpha=0.5)\n",
    "plt.xlabel(\"2θ [°]\")\n",
    "plt.ylabel(\"intensity (CPS)[\\]\")\n",
    "plt.title(\"Calculated X-ray diffraction patterns (relative intensity)\")"
   ]
  },
  {
   "cell_type": "markdown",
   "id": "driven-difference",
   "metadata": {},
   "source": []
  }
 ],
 "metadata": {
  "kernelspec": {
   "display_name": "Python 3",
   "language": "python",
   "name": "python3"
  },
  "language_info": {
   "codemirror_mode": {
    "name": "ipython",
    "version": 3
   },
   "file_extension": ".py",
   "mimetype": "text/x-python",
   "name": "python",
   "nbconvert_exporter": "python",
   "pygments_lexer": "ipython3",
   "version": "3.6.8"
  }
 },
 "nbformat": 4,
 "nbformat_minor": 5
}
