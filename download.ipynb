{
 "cells": [
  {
   "cell_type": "code",
   "execution_count": 3,
   "id": "computational-shoot",
   "metadata": {},
   "outputs": [
    {
     "name": "stdout",
     "output_type": "stream",
     "text": [
      "Full Formula (Ni1 O2)\n",
      "Reduced Formula: NiO2\n",
      "abc   :   2.798782   2.798782   4.618273\n",
      "angles:  90.000000  90.000000 119.999994\n",
      "Sites (3)\n",
      "  #  SP           a         b         c    magmom\n",
      "---  ----  --------  --------  --------  --------\n",
      "  0  Ni    0         0         0.5         -0.001\n",
      "  1  O     0.333333  0.666667  0.706039     0\n",
      "  2  O     0.666667  0.333333  0.293961     0\n"
     ]
    }
   ],
   "source": [
    "from pymatgen.ext.matproj import MPRester\n",
    "\n",
    "with MPRester(\"50GdfyPDwCnkOUl2\") as m:\n",
    "    material_id = \"mp-543096\"\n",
    "    # Structure for material id\n",
    "    structure = m.get_structure_by_material_id(material_id)\n",
    "    structure.to(filename=\"NiO2.cif\")\n",
    "print(structure) #la structure affichée est bien la même que sur le materials project "
   ]
  },
  {
   "cell_type": "code",
   "execution_count": null,
   "id": "neutral-terrorism",
   "metadata": {},
   "outputs": [],
   "source": []
  }
 ],
 "metadata": {
  "kernelspec": {
   "display_name": "Python 3",
   "language": "python",
   "name": "python3"
  },
  "language_info": {
   "codemirror_mode": {
    "name": "ipython",
    "version": 3
   },
   "file_extension": ".py",
   "mimetype": "text/x-python",
   "name": "python",
   "nbconvert_exporter": "python",
   "pygments_lexer": "ipython3",
   "version": "3.6.8"
  }
 },
 "nbformat": 4,
 "nbformat_minor": 5
}
