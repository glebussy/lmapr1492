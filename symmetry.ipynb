{
 "cells": [
  {
   "cell_type": "markdown",
   "id": "reverse-freedom",
   "metadata": {},
   "source": [
    "# Tâche 6 : Élèments de symmétrie du réseau cristallin du NiO2\n",
    " Pour l'analyse des élèments de symmétrie du NiO2, je vais utiliser la structure \"symmétrisée\" de ce réseau. En effet, celle-ci fait apparaitre le plus d'élèments de symmétrie.  \n",
    " \n",
    "### Les différents éléments de symmétrie ont notamment été trouvé un téléchargeant le fichier CIF \"symmetrized\" dans le Jmol Crystal Explorer"
   ]
  },
  {
   "cell_type": "code",
   "execution_count": 31,
   "id": "available-analyst",
   "metadata": {},
   "outputs": [
    {
     "name": "stdout",
     "output_type": "stream",
     "text": [
      "[PeriodicSite: Ni (0.0000, 0.0000, 2.3091) [0.0000, 0.0000, 0.5000], PeriodicSite: O (1.3994, 0.8079, 3.2607) [0.3333, 0.6667, 0.7060], PeriodicSite: O (1.3994, -0.8079, 1.3576) [0.6667, 0.3333, 0.2940]]\n"
     ]
    }
   ],
   "source": [
    "import pymatgen.symmetry.analyzer as analyzer\n",
    "from pymatgen.ext.matproj import MPRester\n",
    "from pymatgen.core.operations import SymmOp \n",
    "import matplotlib.pyplot as plt\n",
    "import matplotlib.image as mpimg\n",
    "from jupyter_jsmol.pymatgen import quick_view\n",
    "from pymatgen import Structure\n",
    "\n",
    "with MPRester(\"50GdfyPDwCnkOUl2\") as m:\n",
    "    material_id = \"mp-543096\"\n",
    "    # Structure for material id\n",
    "    structure = m.get_structure_by_material_id(material_id)\n",
    "    new_structure = analyzer.SpacegroupAnalyzer(structure).get_symmetrized_structure()\n",
    "    new_structure = analyzer.SpacegroupAnalyzer(structure).get_conventional_standard_structure()\n",
    "    site = new_structure.sites\n",
    "    print(site)"
   ]
  },
  {
   "cell_type": "markdown",
   "id": "attended-capture",
   "metadata": {},
   "source": [
    "## 1) Réflexion : le plan miroir\n",
    "\n",
    "Tout d'abord, je vais analyser l'opération de réflexion. Cette opération est associée à un élèment de symmétrie : le plan miroir. Elle est également associée à une matrice ortogonale d'ordre 3 : \n",
    "\\begin{equation}\n",
    "M^T = M^{-1}\n",
    "\\end{equation}\n",
    "agissant sur les coordonnées cartrésiennes d'un point pour en donner l'image.\n",
    "\n",
    "Pour cet exemple, j'ai choisi le plan miroir (-y,-x,z) pour l'atome de Nickel Ni0 en position (0, 0, 0.5). La matrice associée est donc :\n",
    "M = \\begin{pmatrix}\n",
    "    0 & -1 & 0 \\\\ \n",
    "    -1 & 0 & 0 \\\\ \n",
    "    0 & 0 & 1 \n",
    "\\end{pmatrix}\n",
    "\n",
    "La postion final de l'atome de Ni est donné par la relation :\n",
    "\n",
    "\\begin{equation}\n",
    "\\begin{pmatrix} 0 & -1 & 0 \\\\ -1 & 0 & 0 \\\\ 0 & 0 & 1 \\end{pmatrix}\\begin{pmatrix} 0\\\\ 0\\\\ 0.5\\end{pmatrix} = \\begin{pmatrix} 0\\\\ 0\\\\ 0.5\\end{pmatrix}\n",
    "\\end{equation}\n",
    "\n",
    "On remarque dans ce cas que l'atome de Nickel de est renvoyé sur lui même. Le plan miroir passe donc par le Ni0. \n",
    "Les positions initiale-finale de l'atome sont calculées et illustrées via Pymatgen et jupyter-jsmol ci-dessous."
   ]
  },
  {
   "cell_type": "code",
   "execution_count": 47,
   "id": "stuck-adjustment",
   "metadata": {},
   "outputs": [
    {
     "name": "stdout",
     "output_type": "stream",
     "text": [
      "Position initiale Ni0 :  [0.  0.  0.5]\n",
      "Position finale Ni0 :  [0.  0.  0.5]\n"
     ]
    },
    {
     "data": {
      "application/vnd.jupyter.widget-view+json": {
       "model_id": "71b09b7bcc2d44a4ad792bb20e9fc8d1",
       "version_major": 2,
       "version_minor": 0
      },
      "text/plain": [
       "JsmolView(layout=Layout(align_self='stretch', height='400px'))"
      ]
     },
     "metadata": {},
     "output_type": "display_data"
    }
   ],
   "source": [
    "op_sym =SymmOp.from_xyz_string('-y,-x,z')\n",
    "init_position = site[0].frac_coords\n",
    "print(\"Position initiale Ni0 : \",init_position)\n",
    "final_position = op_sym.operate(init_position)\n",
    "print(\"Position finale Ni0 : \",final_position)\n",
    "\n",
    "xtal = Structure.from_file(\"NiO2_mp-510753_symmetrized.cif\")\n",
    "view1 =  quick_view(xtal, supercell = [1,1,1])\n",
    "display(view1)\n",
    "view1.script('draw symop 8 {atomno=1}')"
   ]
  },
  {
   "cell_type": "markdown",
   "id": "exceptional-least",
   "metadata": {},
   "source": [
    "## 2) Rotation : axe d'ordre 3 \n",
    "Pour cet exemple, j'ai choisi la rotation (-y,x-y,z) pour l'atome d'oxygène 01 en position (0.3333, 0.6667, 0.7060). La matrice associée est donc :\n",
    "M = \\begin{pmatrix}\n",
    "    0 & -1 & 0 \\\\ \n",
    "    1 & -1 & 0 \\\\ \n",
    "    0 & 0 & 1 \n",
    "\\end{pmatrix}\n",
    "\n",
    "La postion final de l'atome de O est donné par la relation :\n",
    "\n",
    "\\begin{equation}\n",
    "\\begin{pmatrix} 0 & -1 & 0 \\\\ 1 & -1 & 0 \\\\ 0 & 0 & 1 \\end{pmatrix}\\begin{pmatrix} 0.3333\\\\ 0.6667\\\\ 0.7060\\end{pmatrix} = \\begin{pmatrix} -0.6667\\\\ -0.3333\\\\ 0.7060\\end{pmatrix}\n",
    "\\end{equation}\n",
    "Les positions initiale-finale de l'atome sont calculées et illustrées via Pymatgen et jupyter-jsmol ci-dessous."
   ]
  },
  {
   "cell_type": "code",
   "execution_count": 48,
   "id": "casual-diesel",
   "metadata": {},
   "outputs": [
    {
     "name": "stdout",
     "output_type": "stream",
     "text": [
      "Position initiale 01 :  [0.33333333 0.66666667 0.706039  ]\n",
      "Position finale 01 :  [-0.66666667 -0.33333333  0.706039  ]\n"
     ]
    },
    {
     "data": {
      "application/vnd.jupyter.widget-view+json": {
       "model_id": "bab0c57c6c074721807ca31d9bbd947e",
       "version_major": 2,
       "version_minor": 0
      },
      "text/plain": [
       "JsmolView(layout=Layout(align_self='stretch', height='400px'))"
      ]
     },
     "metadata": {},
     "output_type": "display_data"
    }
   ],
   "source": [
    "op_sym =SymmOp.from_xyz_string('-y,x-y,z')\n",
    "init_position = site[1].frac_coords\n",
    "print(\"Position initiale 01 : \",init_position)\n",
    "final_position = op_sym.operate(init_position)\n",
    "print(\"Position finale 01 : \",final_position)\n",
    "\n",
    "xtal = Structure.from_file(\"NiO2_mp-510753_symmetrized.cif\")\n",
    "view1 =  quick_view(xtal, supercell = [1,1,1])\n",
    "display(view1)\n",
    "view1.script('draw symop 3 {atomno=2}')"
   ]
  },
  {
   "cell_type": "markdown",
   "id": "single-blast",
   "metadata": {},
   "source": [
    "## 2) Roto-inversions : rotation  d'ordre 3 suivie d'une inversion de centre (0,0,0)\n",
    "Pour ce dernier exemple, j'ai choisi la roto-inversion (y,-x+y,-z) et de centre (0,0,0) pour l'atome d'oxygène 02 en position (0.6667, 0.3333, 0.2940). La matrice associée est donc :\n",
    "M = \\begin{pmatrix}\n",
    "    0 & 1 & 0 \\\\ \n",
    "    -1 & 1 & 0 \\\\ \n",
    "    0 & 0 & -1 \n",
    "\\end{pmatrix}\n",
    "\n",
    "La postion final de l'atome de O est donné par la relation :\n",
    "\n",
    "\\begin{equation}\n",
    "\\begin{pmatrix} 0 & 1 & 0 \\\\ -1 & 1 & 0 \\\\ 0 & 0 & -1 \\end{pmatrix}\\begin{pmatrix} 0.6667\\\\ 0.3333\\\\ 0.2940\\end{pmatrix} = \\begin{pmatrix} 0.3333\\\\ -0.3333\\\\ -0.2940\\end{pmatrix}\n",
    "\\end{equation}\n",
    "Les positions initiale-finale de l'atome sont calculées et illustrées via Pymatgen et jupyter-jsmol ci-dessous."
   ]
  },
  {
   "cell_type": "code",
   "execution_count": 51,
   "id": "cubic-turner",
   "metadata": {},
   "outputs": [
    {
     "name": "stdout",
     "output_type": "stream",
     "text": [
      "Position initiale 02 :  [0.66666667 0.33333333 0.293961  ]\n",
      "Position finale 02 :  [ 0.33333333 -0.33333333 -0.293961  ]\n"
     ]
    },
    {
     "data": {
      "application/vnd.jupyter.widget-view+json": {
       "model_id": "53f2bc4016cb4e5c8a96d8faeaea0cde",
       "version_major": 2,
       "version_minor": 0
      },
      "text/plain": [
       "JsmolView(layout=Layout(align_self='stretch', height='400px'))"
      ]
     },
     "metadata": {},
     "output_type": "display_data"
    }
   ],
   "source": [
    "op_sym =SymmOp.from_xyz_string('y,-x+y,-z')\n",
    "init_position = site[2].frac_coords\n",
    "print(\"Position initiale 02 : \",init_position)\n",
    "final_position = op_sym.operate(init_position)\n",
    "print(\"Position finale 02 : \",final_position)\n",
    "\n",
    "xtal = Structure.from_file(\"NiO2_mp-510753_symmetrized.cif\")\n",
    "view1 =  quick_view(xtal, supercell = [1,1,1])\n",
    "display(view1)\n",
    "view1.script('draw symop 4 {atomno=4}')"
   ]
  },
  {
   "cell_type": "code",
   "execution_count": null,
   "id": "increased-ceiling",
   "metadata": {},
   "outputs": [],
   "source": []
  }
 ],
 "metadata": {
  "kernelspec": {
   "display_name": "Python 3",
   "language": "python",
   "name": "python3"
  },
  "language_info": {
   "codemirror_mode": {
    "name": "ipython",
    "version": 3
   },
   "file_extension": ".py",
   "mimetype": "text/x-python",
   "name": "python",
   "nbconvert_exporter": "python",
   "pygments_lexer": "ipython3",
   "version": "3.6.8"
  }
 },
 "nbformat": 4,
 "nbformat_minor": 5
}
